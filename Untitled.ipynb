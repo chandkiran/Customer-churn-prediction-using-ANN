{
 "cells": [
  {
   "cell_type": "code",
   "execution_count": null,
   "id": "d52f3026-41af-4c83-bf55-64935c9fe65c",
   "metadata": {},
   "outputs": [],
   "source": []
  }
 ],
 "metadata": {
  "kernelspec": {
   "display_name": "",
   "name": ""
  },
  "language_info": {
   "name": ""
  }
 },
 "nbformat": 4,
 "nbformat_minor": 5
}
